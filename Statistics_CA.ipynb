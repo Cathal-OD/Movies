{
 "cells": [
  {
   "cell_type": "markdown",
   "metadata": {},
   "source": [
    "<h1><center>Movies</center></h1>\n",
    "<h2><center>What is the most popular type of movie?<br>Does higher budget mean higher revenue?</center></h2>\n",
    "\n",
    "<h3><center>A Report by Cathal and Marijana<h3></center>\n"
   ]
  },
  {
   "cell_type": "markdown",
   "metadata": {},
   "source": [
    "# Introduction\n",
    "\n",
    "For our Dataset Analysis project, we have chosen a movies dataset from the Github repository. Our choice was based on a common interest we both have, the general area of movies, but also one in which we both have extensive knowledge of. Our analysis will look at movies released between 2000-2015, an analysis of the genre and revenue variables, and will examine the correlation between budget and revenue. \n",
    "\n",
    "The dataset we are using here comes from the Udacity--Project-Investigate-TMDB-Movies-Dataset project on GitHub (antra0497, 2018). It is a sample of a much larger dataset from the The Movie Database which contains over 830,000 entries (The Movies Database, 2022)."
   ]
  },
  {
   "cell_type": "code",
   "execution_count": 2,
   "metadata": {},
   "outputs": [],
   "source": [
    "import matplotlib.pyplot as plt # for plotting graphs\n",
    "import numpy as np # linear algebra\n",
    "import pandas as pd # data processing, CSV file I/O (e.g. pd.read_csv)\n",
    "import seaborn as sns # also for plotting graphs\n",
    "from datetime import datetime #reformatting date and time variables. \n",
    "from scipy import stats\n",
    "movies_metadata=pd.read_csv('https://raw.githubusercontent.com/antra0497/Udacity--Project-Investigate-TMDB-Movies-Dataset/master/tmdb-movies.csv')\n",
    "#Our Dataset\n"
   ]
  },
  {
   "cell_type": "markdown",
   "metadata": {},
   "source": [
    "The dataset we have selected has 10866 entries and 21 columns. The dataset info is:"
   ]
  },
  {
   "cell_type": "code",
   "execution_count": 3,
   "metadata": {},
   "outputs": [
    {
     "name": "stdout",
     "output_type": "stream",
     "text": [
      "<class 'pandas.core.frame.DataFrame'>\n",
      "RangeIndex: 10866 entries, 0 to 10865\n",
      "Data columns (total 21 columns):\n",
      " #   Column                Non-Null Count  Dtype  \n",
      "---  ------                --------------  -----  \n",
      " 0   id                    10866 non-null  int64  \n",
      " 1   imdb_id               10856 non-null  object \n",
      " 2   popularity            10866 non-null  float64\n",
      " 3   budget                10866 non-null  int64  \n",
      " 4   revenue               10866 non-null  int64  \n",
      " 5   original_title        10866 non-null  object \n",
      " 6   cast                  10790 non-null  object \n",
      " 7   homepage              2936 non-null   object \n",
      " 8   director              10822 non-null  object \n",
      " 9   tagline               8042 non-null   object \n",
      " 10  keywords              9373 non-null   object \n",
      " 11  overview              10862 non-null  object \n",
      " 12  runtime               10866 non-null  int64  \n",
      " 13  genres                10843 non-null  object \n",
      " 14  production_companies  9836 non-null   object \n",
      " 15  release_date          10866 non-null  object \n",
      " 16  vote_count            10866 non-null  int64  \n",
      " 17  vote_average          10866 non-null  float64\n",
      " 18  release_year          10866 non-null  int64  \n",
      " 19  budget_adj            10866 non-null  float64\n",
      " 20  revenue_adj           10866 non-null  float64\n",
      "dtypes: float64(4), int64(6), object(11)\n",
      "memory usage: 1.7+ MB\n"
     ]
    }
   ],
   "source": [
    "movies_metadata.info()"
   ]
  },
  {
   "cell_type": "markdown",
   "metadata": {},
   "source": [
    "#### The Data Dictionary\n",
    "\n",
    "#### tmdb-movies.csv\n",
    "\n",
    "|Variable|Class|Description|\n",
    "|:--------|:-----|:-----------|\n",
    "id|Double|The Movie Database reference|\n",
    "imdb_id|Character|Internet Movie Database (IMDB) reference|\n",
    "popularity|Double|Popularity value given as a mark out of ten|\n",
    "budget|Double|Money that was spent on the movie|\n",
    "revenue|Double|What the movie earned at the box office|\n",
    "original_title|Character|Original title of the movie. Depending on the region, the title of the movie can change.|\n",
    "cast|Character|The movie cast |\n",
    "homepage|Character|The webpage created for the movie|\n",
    "director|Character|The director|\n",
    "tagline|Character|The tagline used in the promotion|\n",
    "keywords|Character|Search words assigned to the movie|\n",
    "overview|Character|Plot description|\n",
    "runtime|Double|The runtime of the movie in minutes|\n",
    "genres|Character|The genres that the movie fits into|\n",
    "production_companies|Character|The production companies involved|\n",
    "release_date|Character|The date the movie was released 1st MM/DD/YY|\n",
    "vote_count|Double|Number of people polled on The Movie Database|\n",
    "vote_average|Double|Average vote value on a 1-10 scale with 10 being the best value and 1 being the lowest|\n",
    "release_year|Double|The year the movie was release YYYY|\n",
    "budget_adj|Double|The budget of the movie adjusted for inflation|\n",
    "revenue_adj|Double|The revenue of the movie adjusted for inflation|\n",
    "\n",
    "\n",
    "\n",
    "\n"
   ]
  },
  {
   "cell_type": "code",
   "execution_count": 4,
   "metadata": {},
   "outputs": [
    {
     "data": {
      "text/html": [
       "<div>\n",
       "<style scoped>\n",
       "    .dataframe tbody tr th:only-of-type {\n",
       "        vertical-align: middle;\n",
       "    }\n",
       "\n",
       "    .dataframe tbody tr th {\n",
       "        vertical-align: top;\n",
       "    }\n",
       "\n",
       "    .dataframe thead th {\n",
       "        text-align: right;\n",
       "    }\n",
       "</style>\n",
       "<table border=\"1\" class=\"dataframe\">\n",
       "  <thead>\n",
       "    <tr style=\"text-align: right;\">\n",
       "      <th></th>\n",
       "      <th>id</th>\n",
       "      <th>imdb_id</th>\n",
       "      <th>popularity</th>\n",
       "      <th>budget</th>\n",
       "      <th>revenue</th>\n",
       "      <th>original_title</th>\n",
       "      <th>cast</th>\n",
       "      <th>homepage</th>\n",
       "      <th>director</th>\n",
       "      <th>tagline</th>\n",
       "      <th>...</th>\n",
       "      <th>overview</th>\n",
       "      <th>runtime</th>\n",
       "      <th>genres</th>\n",
       "      <th>production_companies</th>\n",
       "      <th>release_date</th>\n",
       "      <th>vote_count</th>\n",
       "      <th>vote_average</th>\n",
       "      <th>release_year</th>\n",
       "      <th>budget_adj</th>\n",
       "      <th>revenue_adj</th>\n",
       "    </tr>\n",
       "  </thead>\n",
       "  <tbody>\n",
       "    <tr>\n",
       "      <th>0</th>\n",
       "      <td>135397</td>\n",
       "      <td>tt0369610</td>\n",
       "      <td>32.985763</td>\n",
       "      <td>150000000</td>\n",
       "      <td>1513528810</td>\n",
       "      <td>Jurassic World</td>\n",
       "      <td>Chris Pratt|Bryce Dallas Howard|Irrfan Khan|Vi...</td>\n",
       "      <td>http://www.jurassicworld.com/</td>\n",
       "      <td>Colin Trevorrow</td>\n",
       "      <td>The park is open.</td>\n",
       "      <td>...</td>\n",
       "      <td>Twenty-two years after the events of Jurassic ...</td>\n",
       "      <td>124</td>\n",
       "      <td>Action|Adventure|Science Fiction|Thriller</td>\n",
       "      <td>Universal Studios|Amblin Entertainment|Legenda...</td>\n",
       "      <td>6/9/15</td>\n",
       "      <td>5562</td>\n",
       "      <td>6.5</td>\n",
       "      <td>2015</td>\n",
       "      <td>1.379999e+08</td>\n",
       "      <td>1.392446e+09</td>\n",
       "    </tr>\n",
       "    <tr>\n",
       "      <th>1</th>\n",
       "      <td>76341</td>\n",
       "      <td>tt1392190</td>\n",
       "      <td>28.419936</td>\n",
       "      <td>150000000</td>\n",
       "      <td>378436354</td>\n",
       "      <td>Mad Max: Fury Road</td>\n",
       "      <td>Tom Hardy|Charlize Theron|Hugh Keays-Byrne|Nic...</td>\n",
       "      <td>http://www.madmaxmovie.com/</td>\n",
       "      <td>George Miller</td>\n",
       "      <td>What a Lovely Day.</td>\n",
       "      <td>...</td>\n",
       "      <td>An apocalyptic story set in the furthest reach...</td>\n",
       "      <td>120</td>\n",
       "      <td>Action|Adventure|Science Fiction|Thriller</td>\n",
       "      <td>Village Roadshow Pictures|Kennedy Miller Produ...</td>\n",
       "      <td>5/13/15</td>\n",
       "      <td>6185</td>\n",
       "      <td>7.1</td>\n",
       "      <td>2015</td>\n",
       "      <td>1.379999e+08</td>\n",
       "      <td>3.481613e+08</td>\n",
       "    </tr>\n",
       "    <tr>\n",
       "      <th>2</th>\n",
       "      <td>262500</td>\n",
       "      <td>tt2908446</td>\n",
       "      <td>13.112507</td>\n",
       "      <td>110000000</td>\n",
       "      <td>295238201</td>\n",
       "      <td>Insurgent</td>\n",
       "      <td>Shailene Woodley|Theo James|Kate Winslet|Ansel...</td>\n",
       "      <td>http://www.thedivergentseries.movie/#insurgent</td>\n",
       "      <td>Robert Schwentke</td>\n",
       "      <td>One Choice Can Destroy You</td>\n",
       "      <td>...</td>\n",
       "      <td>Beatrice Prior must confront her inner demons ...</td>\n",
       "      <td>119</td>\n",
       "      <td>Adventure|Science Fiction|Thriller</td>\n",
       "      <td>Summit Entertainment|Mandeville Films|Red Wago...</td>\n",
       "      <td>3/18/15</td>\n",
       "      <td>2480</td>\n",
       "      <td>6.3</td>\n",
       "      <td>2015</td>\n",
       "      <td>1.012000e+08</td>\n",
       "      <td>2.716190e+08</td>\n",
       "    </tr>\n",
       "    <tr>\n",
       "      <th>3</th>\n",
       "      <td>140607</td>\n",
       "      <td>tt2488496</td>\n",
       "      <td>11.173104</td>\n",
       "      <td>200000000</td>\n",
       "      <td>2068178225</td>\n",
       "      <td>Star Wars: The Force Awakens</td>\n",
       "      <td>Harrison Ford|Mark Hamill|Carrie Fisher|Adam D...</td>\n",
       "      <td>http://www.starwars.com/films/star-wars-episod...</td>\n",
       "      <td>J.J. Abrams</td>\n",
       "      <td>Every generation has a story.</td>\n",
       "      <td>...</td>\n",
       "      <td>Thirty years after defeating the Galactic Empi...</td>\n",
       "      <td>136</td>\n",
       "      <td>Action|Adventure|Science Fiction|Fantasy</td>\n",
       "      <td>Lucasfilm|Truenorth Productions|Bad Robot</td>\n",
       "      <td>12/15/15</td>\n",
       "      <td>5292</td>\n",
       "      <td>7.5</td>\n",
       "      <td>2015</td>\n",
       "      <td>1.839999e+08</td>\n",
       "      <td>1.902723e+09</td>\n",
       "    </tr>\n",
       "    <tr>\n",
       "      <th>4</th>\n",
       "      <td>168259</td>\n",
       "      <td>tt2820852</td>\n",
       "      <td>9.335014</td>\n",
       "      <td>190000000</td>\n",
       "      <td>1506249360</td>\n",
       "      <td>Furious 7</td>\n",
       "      <td>Vin Diesel|Paul Walker|Jason Statham|Michelle ...</td>\n",
       "      <td>http://www.furious7.com/</td>\n",
       "      <td>James Wan</td>\n",
       "      <td>Vengeance Hits Home</td>\n",
       "      <td>...</td>\n",
       "      <td>Deckard Shaw seeks revenge against Dominic Tor...</td>\n",
       "      <td>137</td>\n",
       "      <td>Action|Crime|Thriller</td>\n",
       "      <td>Universal Pictures|Original Film|Media Rights ...</td>\n",
       "      <td>4/1/15</td>\n",
       "      <td>2947</td>\n",
       "      <td>7.3</td>\n",
       "      <td>2015</td>\n",
       "      <td>1.747999e+08</td>\n",
       "      <td>1.385749e+09</td>\n",
       "    </tr>\n",
       "  </tbody>\n",
       "</table>\n",
       "<p>5 rows × 21 columns</p>\n",
       "</div>"
      ],
      "text/plain": [
       "       id    imdb_id  popularity     budget     revenue  \\\n",
       "0  135397  tt0369610   32.985763  150000000  1513528810   \n",
       "1   76341  tt1392190   28.419936  150000000   378436354   \n",
       "2  262500  tt2908446   13.112507  110000000   295238201   \n",
       "3  140607  tt2488496   11.173104  200000000  2068178225   \n",
       "4  168259  tt2820852    9.335014  190000000  1506249360   \n",
       "\n",
       "                 original_title  \\\n",
       "0                Jurassic World   \n",
       "1            Mad Max: Fury Road   \n",
       "2                     Insurgent   \n",
       "3  Star Wars: The Force Awakens   \n",
       "4                     Furious 7   \n",
       "\n",
       "                                                cast  \\\n",
       "0  Chris Pratt|Bryce Dallas Howard|Irrfan Khan|Vi...   \n",
       "1  Tom Hardy|Charlize Theron|Hugh Keays-Byrne|Nic...   \n",
       "2  Shailene Woodley|Theo James|Kate Winslet|Ansel...   \n",
       "3  Harrison Ford|Mark Hamill|Carrie Fisher|Adam D...   \n",
       "4  Vin Diesel|Paul Walker|Jason Statham|Michelle ...   \n",
       "\n",
       "                                            homepage          director  \\\n",
       "0                      http://www.jurassicworld.com/   Colin Trevorrow   \n",
       "1                        http://www.madmaxmovie.com/     George Miller   \n",
       "2     http://www.thedivergentseries.movie/#insurgent  Robert Schwentke   \n",
       "3  http://www.starwars.com/films/star-wars-episod...       J.J. Abrams   \n",
       "4                           http://www.furious7.com/         James Wan   \n",
       "\n",
       "                         tagline  ...  \\\n",
       "0              The park is open.  ...   \n",
       "1             What a Lovely Day.  ...   \n",
       "2     One Choice Can Destroy You  ...   \n",
       "3  Every generation has a story.  ...   \n",
       "4            Vengeance Hits Home  ...   \n",
       "\n",
       "                                            overview runtime  \\\n",
       "0  Twenty-two years after the events of Jurassic ...     124   \n",
       "1  An apocalyptic story set in the furthest reach...     120   \n",
       "2  Beatrice Prior must confront her inner demons ...     119   \n",
       "3  Thirty years after defeating the Galactic Empi...     136   \n",
       "4  Deckard Shaw seeks revenge against Dominic Tor...     137   \n",
       "\n",
       "                                      genres  \\\n",
       "0  Action|Adventure|Science Fiction|Thriller   \n",
       "1  Action|Adventure|Science Fiction|Thriller   \n",
       "2         Adventure|Science Fiction|Thriller   \n",
       "3   Action|Adventure|Science Fiction|Fantasy   \n",
       "4                      Action|Crime|Thriller   \n",
       "\n",
       "                                production_companies release_date vote_count  \\\n",
       "0  Universal Studios|Amblin Entertainment|Legenda...       6/9/15       5562   \n",
       "1  Village Roadshow Pictures|Kennedy Miller Produ...      5/13/15       6185   \n",
       "2  Summit Entertainment|Mandeville Films|Red Wago...      3/18/15       2480   \n",
       "3          Lucasfilm|Truenorth Productions|Bad Robot     12/15/15       5292   \n",
       "4  Universal Pictures|Original Film|Media Rights ...       4/1/15       2947   \n",
       "\n",
       "   vote_average  release_year    budget_adj   revenue_adj  \n",
       "0           6.5          2015  1.379999e+08  1.392446e+09  \n",
       "1           7.1          2015  1.379999e+08  3.481613e+08  \n",
       "2           6.3          2015  1.012000e+08  2.716190e+08  \n",
       "3           7.5          2015  1.839999e+08  1.902723e+09  \n",
       "4           7.3          2015  1.747999e+08  1.385749e+09  \n",
       "\n",
       "[5 rows x 21 columns]"
      ]
     },
     "execution_count": 4,
     "metadata": {},
     "output_type": "execute_result"
    }
   ],
   "source": [
    "#A small sample of the dataset.\n",
    "movies_metadata.head()"
   ]
  },
  {
   "cell_type": "markdown",
   "metadata": {},
   "source": [
    "# Central Tendencies and Measures of Variability."
   ]
  },
  {
   "cell_type": "markdown",
   "metadata": {},
   "source": [
    "### Picking the variables and years\n",
    "\n",
    "The dataset we are looking at have entries going all the way back to 1955 and includes many columns that we are not interested in. In order to make our analysis meaningful, we are selecting specific variables, movies released between 2000 and 2015, selecting where the revenue exceeds 0 - indicating the movie had a cinematic release. We've also added 2 extra variables - \"Revenue_in_millions\" and \"budget_in_millions\". This is to help plot these two variables."
   ]
  },
  {
   "cell_type": "code",
   "execution_count": 5,
   "metadata": {},
   "outputs": [],
   "source": [
    "movies_cols=['popularity','budget','revenue','genres','original_title','release_year','director','cast', 'release_date']\n",
    "#the variables we are interested in.\n",
    "movies_metadata=pd.read_csv('https://raw.githubusercontent.com/antra0497/Udacity--Project-Investigate-TMDB-Movies-Dataset/master/tmdb-movies.csv',\n",
    "                           usecols=movies_cols) #select the specific columns from the dataset\n",
    "\n"
   ]
  },
  {
   "cell_type": "code",
   "execution_count": 6,
   "metadata": {},
   "outputs": [],
   "source": [
    "movies_sample = movies_metadata.query(\"release_year >=2000\")\n",
    "movies_sample = movies_sample.query(\"budget > 0\") # Not all movies in our sample have their budget recorded.   \n",
    "movies_sample = movies_sample.query(\"revenue > 0\") # this filter is designed to include movies that got a cinema release\n",
    "revenue_in_millions=movies_sample['revenue']/1000000 # these are to make plotting revenue and budget variables a little clearer\n",
    "budget_in_millions=movies_sample['budget']/1000000"
   ]
  },
  {
   "cell_type": "markdown",
   "metadata": {},
   "source": [
    "So, lets have a look at what this has done to our data:"
   ]
  },
  {
   "cell_type": "code",
   "execution_count": 7,
   "metadata": {},
   "outputs": [
    {
     "name": "stdout",
     "output_type": "stream",
     "text": [
      "<class 'pandas.core.frame.DataFrame'>\n",
      "Int64Index: 2501 entries, 0 to 8883\n",
      "Data columns (total 9 columns):\n",
      " #   Column          Non-Null Count  Dtype  \n",
      "---  ------          --------------  -----  \n",
      " 0   popularity      2501 non-null   float64\n",
      " 1   budget          2501 non-null   int64  \n",
      " 2   revenue         2501 non-null   int64  \n",
      " 3   original_title  2501 non-null   object \n",
      " 4   cast            2498 non-null   object \n",
      " 5   director        2500 non-null   object \n",
      " 6   genres          2501 non-null   object \n",
      " 7   release_date    2501 non-null   object \n",
      " 8   release_year    2501 non-null   int64  \n",
      "dtypes: float64(1), int64(3), object(5)\n",
      "memory usage: 195.4+ KB\n"
     ]
    }
   ],
   "source": [
    "movies_sample.info()"
   ]
  },
  {
   "cell_type": "markdown",
   "metadata": {},
   "source": [
    "### Finding missing values in our dataset"
   ]
  },
  {
   "cell_type": "code",
   "execution_count": 8,
   "metadata": {},
   "outputs": [
    {
     "name": "stdout",
     "output_type": "stream",
     "text": [
      "popularity        0\n",
      "budget            0\n",
      "revenue           0\n",
      "original_title    0\n",
      "cast              3\n",
      "director          1\n",
      "genres            0\n",
      "release_date      0\n",
      "release_year      0\n",
      "dtype: int64\n",
      "4\n"
     ]
    }
   ],
   "source": [
    "# Total missing values for each feature\n",
    "print(movies_sample.isnull().sum())\n",
    "#Total number of missing values\n",
    "print ( movies_sample.isnull().sum().sum() )"
   ]
  },
  {
   "cell_type": "markdown",
   "metadata": {},
   "source": [
    "There is no data stored for certain variables .Missing values are being detected in variable ‘cast’( 3 missing values) and variable ‘director’ (1 missing value) .\n",
    "Missing data happens due to incomplete data entry, equipment malfunctions, lost files, and many other reasons."
   ]
  },
  {
   "cell_type": "markdown",
   "metadata": {},
   "source": [
    "### Qualitative Variable - Genres\n",
    "\n",
    "Our first analysis will look at the breakdown of genres in the sample. In our dataset, each movie title is assigned whatever genre applies to it. For example, Jurassic World genre reads \"Action|Adventure|Science Fiction|Thriller\" with each genre seperated by a \"|\". In order to seperate them, we will make use of the function data(column) to seperate out the genres and thus be able to count them."
   ]
  },
  {
   "cell_type": "code",
   "execution_count": 9,
   "metadata": {},
   "outputs": [],
   "source": [
    "#The genres and cast columns contains multiple entries seperated by a | This function seperates them out.\n",
    "def data(column):\n",
    "    #will take a column, and separate the string by '|'\n",
    "    data = movies_sample[column].str.cat(sep = '|')\n",
    "    \n",
    "    #giving pandas series and storing the values separately\n",
    "    data = pd.Series(data.split('|'))\n",
    "    \n",
    "    #arranging in descending order\n",
    "    count = data.value_counts(ascending = False)\n",
    "    return count"
   ]
  },
  {
   "cell_type": "code",
   "execution_count": 10,
   "metadata": {},
   "outputs": [
    {
     "data": {
      "text/plain": [
       "Drama        1149\n",
       "Comedy        889\n",
       "Thriller      768\n",
       "Action        682\n",
       "Adventure     466\n",
       "dtype: int64"
      ]
     },
     "execution_count": 10,
     "metadata": {},
     "output_type": "execute_result"
    }
   ],
   "source": [
    "genre_sample=data('genres') #variable to store the returned value\n",
    "count = data('genres')\n",
    "count.head(5) #printing top 5 values"
   ]
  },
  {
   "cell_type": "markdown",
   "metadata": {},
   "source": [
    "We can see that mode for genres, 1149 has been repeated the most times, meaning that Drama is mode of our genres. Graph bar below will be showing it in detail."
   ]
  },
  {
   "cell_type": "code",
   "execution_count": 11,
   "metadata": {},
   "outputs": [
    {
     "data": {
      "image/png": "[encoded data removed]",
      "text/plain": [
       "<Figure size 432x288 with 1 Axes>"
      ]
     },
     "metadata": {
      "needs_background": "light"
     },
     "output_type": "display_data"
    }
   ],
   "source": [
    "diagram=genre_sample.head(20).plot.bar(fontsize=8)"
   ]
  },
  {
   "cell_type": "markdown",
   "metadata": {},
   "source": [
    "When we take into account the graph above, it may not be surprise that drama is the most popular genre. Drama is the least expensive genre to make movies because special costumes, locations,, special/visual effects, etc. are not always needed. Of all the genres drama has the broadest definition in a way that everything that happens anywhere ever is a drama. Other genres have higher bar for classification in a way that horror movies will have scary elements , comedies will have funny elements etc. Filmmakers are showing loss of interest in making foreign, western, documentary and war movies."
   ]
  },
  {
   "cell_type": "markdown",
   "metadata": {},
   "source": [
    "### Quantitative Variable - Revenue\n",
    "\n",
    "Our second analysis will look at the variable \"revenue\". Firstly, let's look at the central tendencies: "
   ]
  },
  {
   "cell_type": "code",
   "execution_count": 12,
   "metadata": {},
   "outputs": [
    {
     "name": "stdout",
     "output_type": "stream",
     "text": [
      "The median of the sample is:  53909751.0\n",
      "The mean of the sample is:  121876715.42902839\n",
      "The minimum value of the sample is:  2\n",
      "The maximum value of the sample is:  2781505847\n"
     ]
    }
   ],
   "source": [
    "print('The median of the sample is: ',movies_sample['revenue'].median())\n",
    "print('The mean of the sample is: ',movies_sample['revenue'].mean())\n",
    "print('The minimum value of the sample is: ', movies_sample['revenue'].min())\n",
    "print('The maximum value of the sample is: ', movies_sample['revenue'].max())"
   ]
  },
  {
   "cell_type": "markdown",
   "metadata": {},
   "source": [
    "As the median and the mean are of very different values, the distribution of the variable is not symmetrical. We're not including mode in this anaylsis as movie revenues do not fall into fixed measure categories. The maximum value is related to one movie - \"Avatar\", which in 2015 was the most successful movie of all time. With the wide difference between the median and mean results, this indicates that there is a wide range of values within this dataset.\n",
    "\n",
    "In order to show a more meaningful distribution graph, I've used the variable \"revenue_in_millions\"."
   ]
  },
  {
   "cell_type": "code",
   "execution_count": 13,
   "metadata": {},
   "outputs": [
    {
     "data": {
      "text/plain": [
       "<seaborn.axisgrid.FacetGrid at 0x27d0861dfd0>"
      ]
     },
     "execution_count": 13,
     "metadata": {},
     "output_type": "execute_result"
    },
    {
     "data": {
      "image/png": "[encoded data removed]",
      "text/plain": [
       "<Figure size 360x360 with 1 Axes>"
      ]
     },
     "metadata": {
      "needs_background": "light"
     },
     "output_type": "display_data"
    }
   ],
   "source": [
    "sns.displot(revenue_in_millions, kde=True)"
   ]
  },
  {
   "cell_type": "markdown",
   "metadata": {},
   "source": [
    "This plot indicates that the distribution of the variable is positively skewed with over 700 of the values between registering very low revenues. The graph indicates what earlier analysis shows: A wide range of values in the variable. However it also shows that the vast majority of the sample had low revenues. The strong positive skew also indicates the presence of many outliers in the above \\$500 million revenue range. Let's do a box plot of the variable:"
   ]
  },
  {
   "cell_type": "code",
   "execution_count": 14,
   "metadata": {},
   "outputs": [
    {
     "data": {
      "text/plain": [
       "<AxesSubplot:xlabel='revenue'>"
      ]
     },
     "execution_count": 14,
     "metadata": {},
     "output_type": "execute_result"
    },
    {
     "data": {
      "image/png": "[encoded data removed]",
      "text/plain": [
       "<Figure size 432x288 with 1 Axes>"
      ]
     },
     "metadata": {
      "needs_background": "light"
     },
     "output_type": "display_data"
    }
   ],
   "source": [
    "sns.boxplot(x=revenue_in_millions)"
   ]
  },
  {
   "cell_type": "markdown",
   "metadata": {},
   "source": [
    "The boxplot is very interesting. Similar to the distribution plot above, a very strong positive skew with a lot of outliers in the range. The first quartile is almost non-existant, the fourth quartile is quite narrow and the bulk of the plot is given over to outliers."
   ]
  },
  {
   "cell_type": "markdown",
   "metadata": {},
   "source": [
    "# Correlation Analysis\n",
    "\n",
    "Let's begin with a heatmap showing the correlation co-efficients of all the quantitative variables in our sample."
   ]
  },
  {
   "cell_type": "code",
   "execution_count": 15,
   "metadata": {},
   "outputs": [
    {
     "data": {
      "image/png": "[encoded data removed]",
      "text/plain": [
       "<Figure size 1152x432 with 2 Axes>"
      ]
     },
     "metadata": {
      "needs_background": "light"
     },
     "output_type": "display_data"
    }
   ],
   "source": [
    "#calculating correlation between variables from our dataset\n",
    "# function called heatmap that allows us to visualize the correlation between variables\n",
    "plt.figure(figsize=(16, 6))\n",
    "mask = np.triu(np.ones_like(movies_sample.corr(method = \"pearson\"), dtype=np.bool))\n",
    "heatmap = sns.heatmap(movies_sample.corr(), mask=mask, vmin=-1, vmax=1, annot=True, cmap='BrBG')\n",
    "heatmap.set_title('Triangle Correlation Heatmap', fontdict={'fontsize':18}, pad=16);\n"
   ]
  },
  {
   "cell_type": "markdown",
   "metadata": {},
   "source": [
    "This heatmap shows  positive correlation between variables in our dataset, going from 0.016 (the lowest value), to 0.73 as highest.\n",
    "We will orientate on correlation between budget and revenue which shows the strongest correlation of 0.73. It would indicate that the more money is spent on the movie, the higher the revenue. Let's do a scatter graph of these two variables:"
   ]
  },
  {
   "cell_type": "code",
   "execution_count": 16,
   "metadata": {},
   "outputs": [
    {
     "data": {
      "image/png": "[encoded data removed]",
      "text/plain": [
       "<Figure size 864x432 with 1 Axes>"
      ]
     },
     "metadata": {
      "needs_background": "light"
     },
     "output_type": "display_data"
    }
   ],
   "source": [
    "X=revenue_in_millions\n",
    "y=budget_in_millions\n",
    "plt.figure(figsize=(12, 6))\n",
    "plt.plot(X, y, 'ro')   # scatter plot showing actual data\n",
    "plt.title('Budget vs Revenue')\n",
    "plt.xlabel('Revenue (in millions)')\n",
    "plt.ylabel('Budget (in millions)')\n",
    "\n",
    "plt.show()"
   ]
  },
  {
   "cell_type": "markdown",
   "metadata": {},
   "source": [
    "It would appear there is a strong correlation between budget and revenue. However, it is worth noting that there is a cluster around low budget, low revenue productions. As we go above budgets of \\\\$100 million, and revenue of \\\\$500 million the scatter element begins to spread with some high budget movies achieving very low revenues but also with some high budget movies achieving revenues of above \\\\$1 billion.\n",
    "\n",
    "In both the high budget and high revenue elements, there are some outliers. Firstly, let's have a look at movies that earned over \\\\$1 billion at the box office:"
   ]
  },
  {
   "cell_type": "code",
   "execution_count": 17,
   "metadata": {},
   "outputs": [
    {
     "name": "stdout",
     "output_type": "stream",
     "text": [
      "<class 'pandas.core.frame.DataFrame'>\n",
      "Int64Index: 20 entries, 0 to 6555\n",
      "Data columns (total 9 columns):\n",
      " #   Column          Non-Null Count  Dtype  \n",
      "---  ------          --------------  -----  \n",
      " 0   popularity      20 non-null     float64\n",
      " 1   budget          20 non-null     int64  \n",
      " 2   revenue         20 non-null     int64  \n",
      " 3   original_title  20 non-null     object \n",
      " 4   cast            20 non-null     object \n",
      " 5   director        20 non-null     object \n",
      " 6   genres          20 non-null     object \n",
      " 7   release_date    20 non-null     object \n",
      " 8   release_year    20 non-null     int64  \n",
      "dtypes: float64(1), int64(3), object(5)\n",
      "memory usage: 1.6+ KB\n"
     ]
    },
    {
     "data": {
      "text/html": [
       "<div>\n",
       "<style scoped>\n",
       "    .dataframe tbody tr th:only-of-type {\n",
       "        vertical-align: middle;\n",
       "    }\n",
       "\n",
       "    .dataframe tbody tr th {\n",
       "        vertical-align: top;\n",
       "    }\n",
       "\n",
       "    .dataframe thead th {\n",
       "        text-align: right;\n",
       "    }\n",
       "</style>\n",
       "<table border=\"1\" class=\"dataframe\">\n",
       "  <thead>\n",
       "    <tr style=\"text-align: right;\">\n",
       "      <th></th>\n",
       "      <th>popularity</th>\n",
       "      <th>budget</th>\n",
       "      <th>revenue</th>\n",
       "      <th>original_title</th>\n",
       "      <th>cast</th>\n",
       "      <th>director</th>\n",
       "      <th>genres</th>\n",
       "      <th>release_date</th>\n",
       "      <th>release_year</th>\n",
       "    </tr>\n",
       "  </thead>\n",
       "  <tbody>\n",
       "    <tr>\n",
       "      <th>0</th>\n",
       "      <td>32.985763</td>\n",
       "      <td>150000000</td>\n",
       "      <td>1513528810</td>\n",
       "      <td>Jurassic World</td>\n",
       "      <td>Chris Pratt|Bryce Dallas Howard|Irrfan Khan|Vi...</td>\n",
       "      <td>Colin Trevorrow</td>\n",
       "      <td>Action|Adventure|Science Fiction|Thriller</td>\n",
       "      <td>6/9/15</td>\n",
       "      <td>2015</td>\n",
       "    </tr>\n",
       "    <tr>\n",
       "      <th>3</th>\n",
       "      <td>11.173104</td>\n",
       "      <td>200000000</td>\n",
       "      <td>2068178225</td>\n",
       "      <td>Star Wars: The Force Awakens</td>\n",
       "      <td>Harrison Ford|Mark Hamill|Carrie Fisher|Adam D...</td>\n",
       "      <td>J.J. Abrams</td>\n",
       "      <td>Action|Adventure|Science Fiction|Fantasy</td>\n",
       "      <td>12/15/15</td>\n",
       "      <td>2015</td>\n",
       "    </tr>\n",
       "    <tr>\n",
       "      <th>4</th>\n",
       "      <td>9.335014</td>\n",
       "      <td>190000000</td>\n",
       "      <td>1506249360</td>\n",
       "      <td>Furious 7</td>\n",
       "      <td>Vin Diesel|Paul Walker|Jason Statham|Michelle ...</td>\n",
       "      <td>James Wan</td>\n",
       "      <td>Action|Crime|Thriller</td>\n",
       "      <td>4/1/15</td>\n",
       "      <td>2015</td>\n",
       "    </tr>\n",
       "    <tr>\n",
       "      <th>8</th>\n",
       "      <td>7.404165</td>\n",
       "      <td>74000000</td>\n",
       "      <td>1156730962</td>\n",
       "      <td>Minions</td>\n",
       "      <td>Sandra Bullock|Jon Hamm|Michael Keaton|Allison...</td>\n",
       "      <td>Kyle Balda|Pierre Coffin</td>\n",
       "      <td>Family|Animation|Adventure|Comedy</td>\n",
       "      <td>6/17/15</td>\n",
       "      <td>2015</td>\n",
       "    </tr>\n",
       "    <tr>\n",
       "      <th>14</th>\n",
       "      <td>5.944927</td>\n",
       "      <td>280000000</td>\n",
       "      <td>1405035767</td>\n",
       "      <td>Avengers: Age of Ultron</td>\n",
       "      <td>Robert Downey Jr.|Chris Hemsworth|Mark Ruffalo...</td>\n",
       "      <td>Joss Whedon</td>\n",
       "      <td>Action|Adventure|Science Fiction</td>\n",
       "      <td>4/22/15</td>\n",
       "      <td>2015</td>\n",
       "    </tr>\n",
       "    <tr>\n",
       "      <th>1386</th>\n",
       "      <td>9.432768</td>\n",
       "      <td>237000000</td>\n",
       "      <td>2781505847</td>\n",
       "      <td>Avatar</td>\n",
       "      <td>Sam Worthington|Zoe Saldana|Sigourney Weaver|S...</td>\n",
       "      <td>James Cameron</td>\n",
       "      <td>Action|Adventure|Fantasy|Science Fiction</td>\n",
       "      <td>12/10/09</td>\n",
       "      <td>2009</td>\n",
       "    </tr>\n",
       "    <tr>\n",
       "      <th>1921</th>\n",
       "      <td>5.572950</td>\n",
       "      <td>200000000</td>\n",
       "      <td>1025467110</td>\n",
       "      <td>Alice in Wonderland</td>\n",
       "      <td>Mia Wasikowska|Johnny Depp|Anne Hathaway|Helen...</td>\n",
       "      <td>Tim Burton</td>\n",
       "      <td>Family|Fantasy|Adventure</td>\n",
       "      <td>3/3/10</td>\n",
       "      <td>2010</td>\n",
       "    </tr>\n",
       "    <tr>\n",
       "      <th>1930</th>\n",
       "      <td>2.711136</td>\n",
       "      <td>200000000</td>\n",
       "      <td>1063171911</td>\n",
       "      <td>Toy Story 3</td>\n",
       "      <td>Tom Hanks|Tim Allen|Ned Beatty|Joan Cusack|Mic...</td>\n",
       "      <td>Lee Unkrich</td>\n",
       "      <td>Animation|Family|Comedy</td>\n",
       "      <td>6/16/10</td>\n",
       "      <td>2010</td>\n",
       "    </tr>\n",
       "    <tr>\n",
       "      <th>2875</th>\n",
       "      <td>8.466668</td>\n",
       "      <td>185000000</td>\n",
       "      <td>1001921825</td>\n",
       "      <td>The Dark Knight</td>\n",
       "      <td>Christian Bale|Michael Caine|Heath Ledger|Aaro...</td>\n",
       "      <td>Christopher Nolan</td>\n",
       "      <td>Drama|Action|Crime|Thriller</td>\n",
       "      <td>7/16/08</td>\n",
       "      <td>2008</td>\n",
       "    </tr>\n",
       "    <tr>\n",
       "      <th>3374</th>\n",
       "      <td>5.711315</td>\n",
       "      <td>125000000</td>\n",
       "      <td>1327817822</td>\n",
       "      <td>Harry Potter and the Deathly Hallows: Part 2</td>\n",
       "      <td>Daniel Radcliffe|Rupert Grint|Emma Watson|Alan...</td>\n",
       "      <td>David Yates</td>\n",
       "      <td>Adventure|Family|Fantasy</td>\n",
       "      <td>7/7/11</td>\n",
       "      <td>2011</td>\n",
       "    </tr>\n",
       "    <tr>\n",
       "      <th>3375</th>\n",
       "      <td>4.955130</td>\n",
       "      <td>380000000</td>\n",
       "      <td>1021683000</td>\n",
       "      <td>Pirates of the Caribbean: On Stranger Tides</td>\n",
       "      <td>Johnny Depp|PenÃ©lope Cruz|Geoffrey Rush|Ian M...</td>\n",
       "      <td>Rob Marshall</td>\n",
       "      <td>Adventure|Action|Fantasy</td>\n",
       "      <td>5/11/11</td>\n",
       "      <td>2011</td>\n",
       "    </tr>\n",
       "    <tr>\n",
       "      <th>3522</th>\n",
       "      <td>0.760503</td>\n",
       "      <td>195000000</td>\n",
       "      <td>1123746996</td>\n",
       "      <td>Transformers: Dark of the Moon</td>\n",
       "      <td>Shia LaBeouf|John Malkovich|Ken Jeong|Frances ...</td>\n",
       "      <td>Michael Bay</td>\n",
       "      <td>Action|Science Fiction|Adventure</td>\n",
       "      <td>6/28/11</td>\n",
       "      <td>2011</td>\n",
       "    </tr>\n",
       "    <tr>\n",
       "      <th>4361</th>\n",
       "      <td>7.637767</td>\n",
       "      <td>220000000</td>\n",
       "      <td>1519557910</td>\n",
       "      <td>The Avengers</td>\n",
       "      <td>Robert Downey Jr.|Chris Evans|Mark Ruffalo|Chr...</td>\n",
       "      <td>Joss Whedon</td>\n",
       "      <td>Science Fiction|Action|Adventure</td>\n",
       "      <td>4/25/12</td>\n",
       "      <td>2012</td>\n",
       "    </tr>\n",
       "    <tr>\n",
       "      <th>4363</th>\n",
       "      <td>6.591277</td>\n",
       "      <td>250000000</td>\n",
       "      <td>1081041287</td>\n",
       "      <td>The Dark Knight Rises</td>\n",
       "      <td>Christian Bale|Michael Caine|Gary Oldman|Anne ...</td>\n",
       "      <td>Christopher Nolan</td>\n",
       "      <td>Action|Crime|Drama|Thriller</td>\n",
       "      <td>7/16/12</td>\n",
       "      <td>2012</td>\n",
       "    </tr>\n",
       "    <tr>\n",
       "      <th>4365</th>\n",
       "      <td>5.603587</td>\n",
       "      <td>200000000</td>\n",
       "      <td>1108561013</td>\n",
       "      <td>Skyfall</td>\n",
       "      <td>Daniel Craig|Judi Dench|Javier Bardem|Ralph Fi...</td>\n",
       "      <td>Sam Mendes</td>\n",
       "      <td>Action|Adventure|Thriller</td>\n",
       "      <td>10/25/12</td>\n",
       "      <td>2012</td>\n",
       "    </tr>\n",
       "    <tr>\n",
       "      <th>4367</th>\n",
       "      <td>4.218933</td>\n",
       "      <td>250000000</td>\n",
       "      <td>1017003568</td>\n",
       "      <td>The Hobbit: An Unexpected Journey</td>\n",
       "      <td>Ian McKellen|Martin Freeman|Richard Armitage|A...</td>\n",
       "      <td>Peter Jackson</td>\n",
       "      <td>Adventure|Fantasy|Action</td>\n",
       "      <td>11/26/12</td>\n",
       "      <td>2012</td>\n",
       "    </tr>\n",
       "    <tr>\n",
       "      <th>4949</th>\n",
       "      <td>7.122455</td>\n",
       "      <td>94000000</td>\n",
       "      <td>1118888979</td>\n",
       "      <td>The Lord of the Rings: The Return of the King</td>\n",
       "      <td>Elijah Wood|Ian McKellen|Viggo Mortensen|Liv T...</td>\n",
       "      <td>Peter Jackson</td>\n",
       "      <td>Adventure|Fantasy|Action</td>\n",
       "      <td>12/1/03</td>\n",
       "      <td>2003</td>\n",
       "    </tr>\n",
       "    <tr>\n",
       "      <th>5422</th>\n",
       "      <td>6.112766</td>\n",
       "      <td>150000000</td>\n",
       "      <td>1274219009</td>\n",
       "      <td>Frozen</td>\n",
       "      <td>Kristen Bell|Idina Menzel|Jonathan Groff|Josh ...</td>\n",
       "      <td>Chris Buck|Jennifer Lee</td>\n",
       "      <td>Animation|Adventure|Family</td>\n",
       "      <td>11/27/13</td>\n",
       "      <td>2013</td>\n",
       "    </tr>\n",
       "    <tr>\n",
       "      <th>5425</th>\n",
       "      <td>4.946136</td>\n",
       "      <td>200000000</td>\n",
       "      <td>1215439994</td>\n",
       "      <td>Iron Man 3</td>\n",
       "      <td>Robert Downey Jr.|Gwyneth Paltrow|Guy Pearce|D...</td>\n",
       "      <td>Shane Black</td>\n",
       "      <td>Action|Adventure|Science Fiction</td>\n",
       "      <td>4/18/13</td>\n",
       "      <td>2013</td>\n",
       "    </tr>\n",
       "    <tr>\n",
       "      <th>6555</th>\n",
       "      <td>4.205992</td>\n",
       "      <td>200000000</td>\n",
       "      <td>1065659812</td>\n",
       "      <td>Pirates of the Caribbean: Dead Man's Chest</td>\n",
       "      <td>Johnny Depp|Orlando Bloom|Keira Knightley|Bill...</td>\n",
       "      <td>Gore Verbinski</td>\n",
       "      <td>Adventure|Fantasy|Action</td>\n",
       "      <td>6/20/06</td>\n",
       "      <td>2006</td>\n",
       "    </tr>\n",
       "  </tbody>\n",
       "</table>\n",
       "</div>"
      ],
      "text/plain": [
       "      popularity     budget     revenue  \\\n",
       "0      32.985763  150000000  1513528810   \n",
       "3      11.173104  200000000  2068178225   \n",
       "4       9.335014  190000000  1506249360   \n",
       "8       7.404165   74000000  1156730962   \n",
       "14      5.944927  280000000  1405035767   \n",
       "1386    9.432768  237000000  2781505847   \n",
       "1921    5.572950  200000000  1025467110   \n",
       "1930    2.711136  200000000  1063171911   \n",
       "2875    8.466668  185000000  1001921825   \n",
       "3374    5.711315  125000000  1327817822   \n",
       "3375    4.955130  380000000  1021683000   \n",
       "3522    0.760503  195000000  1123746996   \n",
       "4361    7.637767  220000000  1519557910   \n",
       "4363    6.591277  250000000  1081041287   \n",
       "4365    5.603587  200000000  1108561013   \n",
       "4367    4.218933  250000000  1017003568   \n",
       "4949    7.122455   94000000  1118888979   \n",
       "5422    6.112766  150000000  1274219009   \n",
       "5425    4.946136  200000000  1215439994   \n",
       "6555    4.205992  200000000  1065659812   \n",
       "\n",
       "                                     original_title  \\\n",
       "0                                    Jurassic World   \n",
       "3                      Star Wars: The Force Awakens   \n",
       "4                                         Furious 7   \n",
       "8                                           Minions   \n",
       "14                          Avengers: Age of Ultron   \n",
       "1386                                         Avatar   \n",
       "1921                            Alice in Wonderland   \n",
       "1930                                    Toy Story 3   \n",
       "2875                                The Dark Knight   \n",
       "3374   Harry Potter and the Deathly Hallows: Part 2   \n",
       "3375    Pirates of the Caribbean: On Stranger Tides   \n",
       "3522                 Transformers: Dark of the Moon   \n",
       "4361                                   The Avengers   \n",
       "4363                          The Dark Knight Rises   \n",
       "4365                                        Skyfall   \n",
       "4367              The Hobbit: An Unexpected Journey   \n",
       "4949  The Lord of the Rings: The Return of the King   \n",
       "5422                                         Frozen   \n",
       "5425                                     Iron Man 3   \n",
       "6555     Pirates of the Caribbean: Dead Man's Chest   \n",
       "\n",
       "                                                   cast  \\\n",
       "0     Chris Pratt|Bryce Dallas Howard|Irrfan Khan|Vi...   \n",
       "3     Harrison Ford|Mark Hamill|Carrie Fisher|Adam D...   \n",
       "4     Vin Diesel|Paul Walker|Jason Statham|Michelle ...   \n",
       "8     Sandra Bullock|Jon Hamm|Michael Keaton|Allison...   \n",
       "14    Robert Downey Jr.|Chris Hemsworth|Mark Ruffalo...   \n",
       "1386  Sam Worthington|Zoe Saldana|Sigourney Weaver|S...   \n",
       "1921  Mia Wasikowska|Johnny Depp|Anne Hathaway|Helen...   \n",
       "1930  Tom Hanks|Tim Allen|Ned Beatty|Joan Cusack|Mic...   \n",
       "2875  Christian Bale|Michael Caine|Heath Ledger|Aaro...   \n",
       "3374  Daniel Radcliffe|Rupert Grint|Emma Watson|Alan...   \n",
       "3375  Johnny Depp|PenÃ©lope Cruz|Geoffrey Rush|Ian M...   \n",
       "3522  Shia LaBeouf|John Malkovich|Ken Jeong|Frances ...   \n",
       "4361  Robert Downey Jr.|Chris Evans|Mark Ruffalo|Chr...   \n",
       "4363  Christian Bale|Michael Caine|Gary Oldman|Anne ...   \n",
       "4365  Daniel Craig|Judi Dench|Javier Bardem|Ralph Fi...   \n",
       "4367  Ian McKellen|Martin Freeman|Richard Armitage|A...   \n",
       "4949  Elijah Wood|Ian McKellen|Viggo Mortensen|Liv T...   \n",
       "5422  Kristen Bell|Idina Menzel|Jonathan Groff|Josh ...   \n",
       "5425  Robert Downey Jr.|Gwyneth Paltrow|Guy Pearce|D...   \n",
       "6555  Johnny Depp|Orlando Bloom|Keira Knightley|Bill...   \n",
       "\n",
       "                      director                                     genres  \\\n",
       "0              Colin Trevorrow  Action|Adventure|Science Fiction|Thriller   \n",
       "3                  J.J. Abrams   Action|Adventure|Science Fiction|Fantasy   \n",
       "4                    James Wan                      Action|Crime|Thriller   \n",
       "8     Kyle Balda|Pierre Coffin          Family|Animation|Adventure|Comedy   \n",
       "14                 Joss Whedon           Action|Adventure|Science Fiction   \n",
       "1386             James Cameron   Action|Adventure|Fantasy|Science Fiction   \n",
       "1921                Tim Burton                   Family|Fantasy|Adventure   \n",
       "1930               Lee Unkrich                    Animation|Family|Comedy   \n",
       "2875         Christopher Nolan                Drama|Action|Crime|Thriller   \n",
       "3374               David Yates                   Adventure|Family|Fantasy   \n",
       "3375              Rob Marshall                   Adventure|Action|Fantasy   \n",
       "3522               Michael Bay           Action|Science Fiction|Adventure   \n",
       "4361               Joss Whedon           Science Fiction|Action|Adventure   \n",
       "4363         Christopher Nolan                Action|Crime|Drama|Thriller   \n",
       "4365                Sam Mendes                  Action|Adventure|Thriller   \n",
       "4367             Peter Jackson                   Adventure|Fantasy|Action   \n",
       "4949             Peter Jackson                   Adventure|Fantasy|Action   \n",
       "5422   Chris Buck|Jennifer Lee                 Animation|Adventure|Family   \n",
       "5425               Shane Black           Action|Adventure|Science Fiction   \n",
       "6555            Gore Verbinski                   Adventure|Fantasy|Action   \n",
       "\n",
       "     release_date  release_year  \n",
       "0          6/9/15          2015  \n",
       "3        12/15/15          2015  \n",
       "4          4/1/15          2015  \n",
       "8         6/17/15          2015  \n",
       "14        4/22/15          2015  \n",
       "1386     12/10/09          2009  \n",
       "1921       3/3/10          2010  \n",
       "1930      6/16/10          2010  \n",
       "2875      7/16/08          2008  \n",
       "3374       7/7/11          2011  \n",
       "3375      5/11/11          2011  \n",
       "3522      6/28/11          2011  \n",
       "4361      4/25/12          2012  \n",
       "4363      7/16/12          2012  \n",
       "4365     10/25/12          2012  \n",
       "4367     11/26/12          2012  \n",
       "4949      12/1/03          2003  \n",
       "5422     11/27/13          2013  \n",
       "5425      4/18/13          2013  \n",
       "6555      6/20/06          2006  "
      ]
     },
     "execution_count": 17,
     "metadata": {},
     "output_type": "execute_result"
    }
   ],
   "source": [
    "outliers1=movies_sample.query(\"revenue>1000000000\")\n",
    "outliers1.info()\n",
    "outliers1.head(20)"
   ]
  },
  {
   "cell_type": "markdown",
   "metadata": {},
   "source": [
    "Why are they considered outliers? Well, movies of a similar budget did not do nearly as well at the box office as these examples. A possible explanation is that they are predominately movies that are part of very commercially successful franchises such as the Marvel MCU, Star Wars, Harry Potter and James Bond. However, Avatar and Frozen are stand out ones not being part of any franchise at the time. There is also movies that inspite of large budgets, failed to make a profit:"
   ]
  },
  {
   "cell_type": "code",
   "execution_count": 18,
   "metadata": {},
   "outputs": [
    {
     "name": "stdout",
     "output_type": "stream",
     "text": [
      "<class 'pandas.core.frame.DataFrame'>\n",
      "Int64Index: 355 entries, 57 to 8881\n",
      "Data columns (total 9 columns):\n",
      " #   Column          Non-Null Count  Dtype  \n",
      "---  ------          --------------  -----  \n",
      " 0   popularity      355 non-null    float64\n",
      " 1   budget          355 non-null    int64  \n",
      " 2   revenue         355 non-null    int64  \n",
      " 3   original_title  355 non-null    object \n",
      " 4   cast            355 non-null    object \n",
      " 5   director        355 non-null    object \n",
      " 6   genres          355 non-null    object \n",
      " 7   release_date    355 non-null    object \n",
      " 8   release_year    355 non-null    int64  \n",
      "dtypes: float64(1), int64(3), object(5)\n",
      "memory usage: 27.7+ KB\n"
     ]
    },
    {
     "data": {
      "text/html": [
       "<div>\n",
       "<style scoped>\n",
       "    .dataframe tbody tr th:only-of-type {\n",
       "        vertical-align: middle;\n",
       "    }\n",
       "\n",
       "    .dataframe tbody tr th {\n",
       "        vertical-align: top;\n",
       "    }\n",
       "\n",
       "    .dataframe thead th {\n",
       "        text-align: right;\n",
       "    }\n",
       "</style>\n",
       "<table border=\"1\" class=\"dataframe\">\n",
       "  <thead>\n",
       "    <tr style=\"text-align: right;\">\n",
       "      <th></th>\n",
       "      <th>popularity</th>\n",
       "      <th>budget</th>\n",
       "      <th>revenue</th>\n",
       "      <th>original_title</th>\n",
       "      <th>cast</th>\n",
       "      <th>director</th>\n",
       "      <th>genres</th>\n",
       "      <th>release_date</th>\n",
       "      <th>release_year</th>\n",
       "    </tr>\n",
       "  </thead>\n",
       "  <tbody>\n",
       "    <tr>\n",
       "      <th>57</th>\n",
       "      <td>2.575711</td>\n",
       "      <td>60000000</td>\n",
       "      <td>30418560</td>\n",
       "      <td>Mortdecai</td>\n",
       "      <td>Johnny Depp|Gwyneth Paltrow|Ewan McGregor|Paul...</td>\n",
       "      <td>David Koepp</td>\n",
       "      <td>Comedy|Adventure</td>\n",
       "      <td>1/21/15</td>\n",
       "      <td>2015</td>\n",
       "    </tr>\n",
       "    <tr>\n",
       "      <th>59</th>\n",
       "      <td>2.550747</td>\n",
       "      <td>70000000</td>\n",
       "      <td>17752940</td>\n",
       "      <td>Blackhat</td>\n",
       "      <td>Chris Hemsworth|Leehom Wang|Tang Wei|Viola Dav...</td>\n",
       "      <td>Michael Mann</td>\n",
       "      <td>Mystery|Crime|Action|Thriller|Drama</td>\n",
       "      <td>1/13/15</td>\n",
       "      <td>2015</td>\n",
       "    </tr>\n",
       "    <tr>\n",
       "      <th>66</th>\n",
       "      <td>2.345821</td>\n",
       "      <td>100000000</td>\n",
       "      <td>93820758</td>\n",
       "      <td>In the Heart of the Sea</td>\n",
       "      <td>Chris Hemsworth|Benjamin Walker|Cillian Murphy...</td>\n",
       "      <td>Ron Howard</td>\n",
       "      <td>Thriller|Drama|Adventure|Action|History</td>\n",
       "      <td>11/20/15</td>\n",
       "      <td>2015</td>\n",
       "    </tr>\n",
       "    <tr>\n",
       "      <th>73</th>\n",
       "      <td>2.234573</td>\n",
       "      <td>150000000</td>\n",
       "      <td>128388320</td>\n",
       "      <td>Pan</td>\n",
       "      <td>Levi Miller|Garrett Hedlund|Hugh Jackman|Roone...</td>\n",
       "      <td>Joe Wright</td>\n",
       "      <td>Adventure|Family|Fantasy</td>\n",
       "      <td>9/24/15</td>\n",
       "      <td>2015</td>\n",
       "    </tr>\n",
       "    <tr>\n",
       "      <th>89</th>\n",
       "      <td>1.956320</td>\n",
       "      <td>50000000</td>\n",
       "      <td>3324330</td>\n",
       "      <td>Child 44</td>\n",
       "      <td>Tom Hardy|Gary Oldman|Noomi Rapace|Joel Kinnam...</td>\n",
       "      <td>Daniel Espinosa</td>\n",
       "      <td>Crime|Thriller</td>\n",
       "      <td>3/15/15</td>\n",
       "      <td>2015</td>\n",
       "    </tr>\n",
       "    <tr>\n",
       "      <th>135</th>\n",
       "      <td>1.225325</td>\n",
       "      <td>40000000</td>\n",
       "      <td>10664749</td>\n",
       "      <td>The Gunman</td>\n",
       "      <td>Sean Penn|Jasmine Trinca|Javier Bardem|Ray Win...</td>\n",
       "      <td>Pierre Morel</td>\n",
       "      <td>Action|Drama|Crime</td>\n",
       "      <td>2/16/15</td>\n",
       "      <td>2015</td>\n",
       "    </tr>\n",
       "    <tr>\n",
       "      <th>142</th>\n",
       "      <td>1.138395</td>\n",
       "      <td>40000000</td>\n",
       "      <td>34227298</td>\n",
       "      <td>Victor Frankenstein</td>\n",
       "      <td>James McAvoy|Daniel Radcliffe|Jessica Brown Fi...</td>\n",
       "      <td>Paul McGuigan</td>\n",
       "      <td>Drama|Science Fiction|Thriller</td>\n",
       "      <td>11/10/15</td>\n",
       "      <td>2015</td>\n",
       "    </tr>\n",
       "    <tr>\n",
       "      <th>167</th>\n",
       "      <td>0.906036</td>\n",
       "      <td>25000000</td>\n",
       "      <td>24902723</td>\n",
       "      <td>The 33</td>\n",
       "      <td>Antonio Banderas|Rodrigo Santoro|Juliette Bino...</td>\n",
       "      <td>Patricia Riggen</td>\n",
       "      <td>History|Drama</td>\n",
       "      <td>8/6/15</td>\n",
       "      <td>2015</td>\n",
       "    </tr>\n",
       "    <tr>\n",
       "      <th>183</th>\n",
       "      <td>0.814206</td>\n",
       "      <td>37000000</td>\n",
       "      <td>26250020</td>\n",
       "      <td>Aloha</td>\n",
       "      <td>Bradley Cooper|Emma Stone|Rachel McAdams|John ...</td>\n",
       "      <td>Cameron Crowe</td>\n",
       "      <td>Adventure|Comedy|Romance</td>\n",
       "      <td>5/27/15</td>\n",
       "      <td>2015</td>\n",
       "    </tr>\n",
       "    <tr>\n",
       "      <th>186</th>\n",
       "      <td>0.795762</td>\n",
       "      <td>28000000</td>\n",
       "      <td>7002261</td>\n",
       "      <td>Our Brand Is Crisis</td>\n",
       "      <td>Sandra Bullock|Anthony Mackie|Billy Bob Thornt...</td>\n",
       "      <td>David Gordon Green</td>\n",
       "      <td>Drama|Comedy</td>\n",
       "      <td>9/11/15</td>\n",
       "      <td>2015</td>\n",
       "    </tr>\n",
       "    <tr>\n",
       "      <th>229</th>\n",
       "      <td>0.577814</td>\n",
       "      <td>35000000</td>\n",
       "      <td>14431253</td>\n",
       "      <td>Unfinished Business</td>\n",
       "      <td>Vince Vaughn|Dave Franco|James Marsden|June Di...</td>\n",
       "      <td>Ken Scott</td>\n",
       "      <td>Comedy</td>\n",
       "      <td>3/5/15</td>\n",
       "      <td>2015</td>\n",
       "    </tr>\n",
       "    <tr>\n",
       "      <th>656</th>\n",
       "      <td>3.989231</td>\n",
       "      <td>44000000</td>\n",
       "      <td>11305175</td>\n",
       "      <td>The Interview</td>\n",
       "      <td>James Franco|Seth Rogen|Lizzy Caplan|Randall P...</td>\n",
       "      <td>Evan Goldberg|Seth Rogen</td>\n",
       "      <td>Action|Comedy</td>\n",
       "      <td>12/25/14</td>\n",
       "      <td>2014</td>\n",
       "    </tr>\n",
       "    <tr>\n",
       "      <th>699</th>\n",
       "      <td>2.141491</td>\n",
       "      <td>60000000</td>\n",
       "      <td>50549107</td>\n",
       "      <td>Jack Ryan: Shadow Recruit</td>\n",
       "      <td>Chris Pine|Keira Knightley|Kevin Costner|Nonso...</td>\n",
       "      <td>Kenneth Branagh</td>\n",
       "      <td>Action|Drama|Thriller</td>\n",
       "      <td>1/15/14</td>\n",
       "      <td>2014</td>\n",
       "    </tr>\n",
       "    <tr>\n",
       "      <th>710</th>\n",
       "      <td>1.840817</td>\n",
       "      <td>65000000</td>\n",
       "      <td>39407616</td>\n",
       "      <td>Sin City: A Dame to Kill For</td>\n",
       "      <td>Mickey Rourke|Jessica Alba|Josh Brolin|Joseph ...</td>\n",
       "      <td>Frank Miller|Robert Rodriguez</td>\n",
       "      <td>Crime|Thriller</td>\n",
       "      <td>8/20/14</td>\n",
       "      <td>2014</td>\n",
       "    </tr>\n",
       "    <tr>\n",
       "      <th>722</th>\n",
       "      <td>1.638781</td>\n",
       "      <td>130000000</td>\n",
       "      <td>117831631</td>\n",
       "      <td>Pompeii</td>\n",
       "      <td>Kit Harington|Carrie-Anne Moss|Emily Browning|...</td>\n",
       "      <td>Paul W.S. Anderson</td>\n",
       "      <td>Action|Adventure|History|Romance|Drama</td>\n",
       "      <td>2/18/14</td>\n",
       "      <td>2014</td>\n",
       "    </tr>\n",
       "    <tr>\n",
       "      <th>745</th>\n",
       "      <td>1.214094</td>\n",
       "      <td>35000000</td>\n",
       "      <td>17508518</td>\n",
       "      <td>Sabotage</td>\n",
       "      <td>Arnold Schwarzenegger|Sam Worthington|Mireille...</td>\n",
       "      <td>David Ayer</td>\n",
       "      <td>Action|Drama|Thriller|Crime</td>\n",
       "      <td>3/28/14</td>\n",
       "      <td>2014</td>\n",
       "    </tr>\n",
       "    <tr>\n",
       "      <th>753</th>\n",
       "      <td>1.136851</td>\n",
       "      <td>24000000</td>\n",
       "      <td>12096300</td>\n",
       "      <td>Foxcatcher</td>\n",
       "      <td>Steve Carell|Channing Tatum|Mark Ruffalo|Sienn...</td>\n",
       "      <td>Bennett Miller</td>\n",
       "      <td>Drama|Thriller</td>\n",
       "      <td>5/19/14</td>\n",
       "      <td>2014</td>\n",
       "    </tr>\n",
       "    <tr>\n",
       "      <th>780</th>\n",
       "      <td>0.925370</td>\n",
       "      <td>60000000</td>\n",
       "      <td>30800231</td>\n",
       "      <td>Winter's Tale</td>\n",
       "      <td>Colin Farrell|Jessica Brown Findlay|Russell Cr...</td>\n",
       "      <td>Akiva Goldsman</td>\n",
       "      <td>Drama|Fantasy|Mystery|Romance</td>\n",
       "      <td>2/13/14</td>\n",
       "      <td>2014</td>\n",
       "    </tr>\n",
       "    <tr>\n",
       "      <th>788</th>\n",
       "      <td>0.893121</td>\n",
       "      <td>22500000</td>\n",
       "      <td>15520023</td>\n",
       "      <td>The Water Diviner</td>\n",
       "      <td>Russell Crowe|Olga Kurylenko|Jai Courtney|Isab...</td>\n",
       "      <td>Russell Crowe</td>\n",
       "      <td>War|Drama</td>\n",
       "      <td>12/25/14</td>\n",
       "      <td>2014</td>\n",
       "    </tr>\n",
       "    <tr>\n",
       "      <th>896</th>\n",
       "      <td>0.495840</td>\n",
       "      <td>70000000</td>\n",
       "      <td>61279452</td>\n",
       "      <td>The Legend of Hercules</td>\n",
       "      <td>Kellan Lutz|Liam McIntyre|Gaia Weiss|Scott Adk...</td>\n",
       "      <td>Renny Harlin</td>\n",
       "      <td>Action|Adventure</td>\n",
       "      <td>1/10/14</td>\n",
       "      <td>2014</td>\n",
       "    </tr>\n",
       "  </tbody>\n",
       "</table>\n",
       "</div>"
      ],
      "text/plain": [
       "     popularity     budget    revenue                original_title  \\\n",
       "57     2.575711   60000000   30418560                     Mortdecai   \n",
       "59     2.550747   70000000   17752940                      Blackhat   \n",
       "66     2.345821  100000000   93820758       In the Heart of the Sea   \n",
       "73     2.234573  150000000  128388320                           Pan   \n",
       "89     1.956320   50000000    3324330                      Child 44   \n",
       "135    1.225325   40000000   10664749                    The Gunman   \n",
       "142    1.138395   40000000   34227298           Victor Frankenstein   \n",
       "167    0.906036   25000000   24902723                        The 33   \n",
       "183    0.814206   37000000   26250020                         Aloha   \n",
       "186    0.795762   28000000    7002261           Our Brand Is Crisis   \n",
       "229    0.577814   35000000   14431253           Unfinished Business   \n",
       "656    3.989231   44000000   11305175                 The Interview   \n",
       "699    2.141491   60000000   50549107     Jack Ryan: Shadow Recruit   \n",
       "710    1.840817   65000000   39407616  Sin City: A Dame to Kill For   \n",
       "722    1.638781  130000000  117831631                       Pompeii   \n",
       "745    1.214094   35000000   17508518                      Sabotage   \n",
       "753    1.136851   24000000   12096300                    Foxcatcher   \n",
       "780    0.925370   60000000   30800231                 Winter's Tale   \n",
       "788    0.893121   22500000   15520023             The Water Diviner   \n",
       "896    0.495840   70000000   61279452        The Legend of Hercules   \n",
       "\n",
       "                                                  cast  \\\n",
       "57   Johnny Depp|Gwyneth Paltrow|Ewan McGregor|Paul...   \n",
       "59   Chris Hemsworth|Leehom Wang|Tang Wei|Viola Dav...   \n",
       "66   Chris Hemsworth|Benjamin Walker|Cillian Murphy...   \n",
       "73   Levi Miller|Garrett Hedlund|Hugh Jackman|Roone...   \n",
       "89   Tom Hardy|Gary Oldman|Noomi Rapace|Joel Kinnam...   \n",
       "135  Sean Penn|Jasmine Trinca|Javier Bardem|Ray Win...   \n",
       "142  James McAvoy|Daniel Radcliffe|Jessica Brown Fi...   \n",
       "167  Antonio Banderas|Rodrigo Santoro|Juliette Bino...   \n",
       "183  Bradley Cooper|Emma Stone|Rachel McAdams|John ...   \n",
       "186  Sandra Bullock|Anthony Mackie|Billy Bob Thornt...   \n",
       "229  Vince Vaughn|Dave Franco|James Marsden|June Di...   \n",
       "656  James Franco|Seth Rogen|Lizzy Caplan|Randall P...   \n",
       "699  Chris Pine|Keira Knightley|Kevin Costner|Nonso...   \n",
       "710  Mickey Rourke|Jessica Alba|Josh Brolin|Joseph ...   \n",
       "722  Kit Harington|Carrie-Anne Moss|Emily Browning|...   \n",
       "745  Arnold Schwarzenegger|Sam Worthington|Mireille...   \n",
       "753  Steve Carell|Channing Tatum|Mark Ruffalo|Sienn...   \n",
       "780  Colin Farrell|Jessica Brown Findlay|Russell Cr...   \n",
       "788  Russell Crowe|Olga Kurylenko|Jai Courtney|Isab...   \n",
       "896  Kellan Lutz|Liam McIntyre|Gaia Weiss|Scott Adk...   \n",
       "\n",
       "                          director                                   genres  \\\n",
       "57                     David Koepp                         Comedy|Adventure   \n",
       "59                    Michael Mann      Mystery|Crime|Action|Thriller|Drama   \n",
       "66                      Ron Howard  Thriller|Drama|Adventure|Action|History   \n",
       "73                      Joe Wright                 Adventure|Family|Fantasy   \n",
       "89                 Daniel Espinosa                           Crime|Thriller   \n",
       "135                   Pierre Morel                       Action|Drama|Crime   \n",
       "142                  Paul McGuigan           Drama|Science Fiction|Thriller   \n",
       "167                Patricia Riggen                            History|Drama   \n",
       "183                  Cameron Crowe                 Adventure|Comedy|Romance   \n",
       "186             David Gordon Green                             Drama|Comedy   \n",
       "229                      Ken Scott                                   Comedy   \n",
       "656       Evan Goldberg|Seth Rogen                            Action|Comedy   \n",
       "699                Kenneth Branagh                    Action|Drama|Thriller   \n",
       "710  Frank Miller|Robert Rodriguez                           Crime|Thriller   \n",
       "722             Paul W.S. Anderson   Action|Adventure|History|Romance|Drama   \n",
       "745                     David Ayer              Action|Drama|Thriller|Crime   \n",
       "753                 Bennett Miller                           Drama|Thriller   \n",
       "780                 Akiva Goldsman            Drama|Fantasy|Mystery|Romance   \n",
       "788                  Russell Crowe                                War|Drama   \n",
       "896                   Renny Harlin                         Action|Adventure   \n",
       "\n",
       "    release_date  release_year  \n",
       "57       1/21/15          2015  \n",
       "59       1/13/15          2015  \n",
       "66      11/20/15          2015  \n",
       "73       9/24/15          2015  \n",
       "89       3/15/15          2015  \n",
       "135      2/16/15          2015  \n",
       "142     11/10/15          2015  \n",
       "167       8/6/15          2015  \n",
       "183      5/27/15          2015  \n",
       "186      9/11/15          2015  \n",
       "229       3/5/15          2015  \n",
       "656     12/25/14          2014  \n",
       "699      1/15/14          2014  \n",
       "710      8/20/14          2014  \n",
       "722      2/18/14          2014  \n",
       "745      3/28/14          2014  \n",
       "753      5/19/14          2014  \n",
       "780      2/13/14          2014  \n",
       "788     12/25/14          2014  \n",
       "896      1/10/14          2014  "
      ]
     },
     "execution_count": 18,
     "metadata": {},
     "output_type": "execute_result"
    }
   ],
   "source": [
    "outliers2=movies_sample.query(\"budget>20000000\")\n",
    "outliers2=outliers2.query(\"revenue<budget\") #movies that did not make a profit\n",
    "outliers2.info()\n",
    "outliers2.head(20)"
   ]
  },
  {
   "cell_type": "markdown",
   "metadata": {},
   "source": [
    "As noted with the movies above that were part of larger franchises, none of the movies listed here were part of a larger franchise. They also received less than warm reviews from both audiences and critics alike. \n",
    "\n",
    "### Does Correlation imply Causation?\n",
    "\n",
    "Our analysis indicates no it doesn't. A higher budget does not necessarily mean higher revenue as there are other factors at play such as audience reaction and membership of a larger franchise. There are also cases that a very low budget was spent and the movie made a very large amount of money. A famous example of this is the movie \"Paranormal Activity\" which cost \\\\$450,000 to produce and earned \\\\$194 million at the box office (The Numbers, 2022).\n",
    "\n",
    "### Conclusion\n",
    "\n",
    "While it appears that higher budget movies do earn higher revenues, this is not always the case and there are other factors at play. Membership of a larger franchise appears to be a key factor in movies doing exceptionally well at the box office but also negative reviews by critics and audiences are also key factor in the lack of success of a movie. The movie \"Child 44\" received a 27% rating from Rotten Tomatoes (Rotten Tomatoes, 2015) and most of the movies that did not make a profit achieved similar scores."
   ]
  },
  {
   "cell_type": "markdown",
   "metadata": {},
   "source": [
    "# Regression Analysis\n",
    "\n",
    "Let's do a regression analysis on the same two variables we used in Correlation - Budget and Revenue. Does an increase in budget necessarily mean an increase in revenue? We already have a correlation coefficient of 0.73, so now we will generate an equation for best fit."
   ]
  },
  {
   "cell_type": "code",
   "execution_count": 19,
   "metadata": {},
   "outputs": [
    {
     "data": {
      "text/plain": [
       "array([ 0.17482922, 22.95477992])"
      ]
     },
     "execution_count": 19,
     "metadata": {},
     "output_type": "execute_result"
    }
   ],
   "source": [
    "movies_fit = np.polyfit(revenue_in_millions, budget_in_millions, 1)\n",
    "\n",
    "movies_fit"
   ]
  },
  {
   "cell_type": "markdown",
   "metadata": {},
   "source": [
    "The output gives us a = 0.175 and b = 22.955. With these two values we can now calculate our Linear Regression Model:\n",
    "\n",
    "Revenue: R \n",
    "\n",
    "Budget: B \n",
    "\n",
    "Linear Regression Model: R = 0.175*B + 22.955\n"
   ]
  },
  {
   "cell_type": "markdown",
   "metadata": {},
   "source": [
    "Now, let's plot the regression anaylsis of the two variables. For this purpose, we are using code created by Lorraine Li (Li, 2018)."
   ]
  },
  {
   "cell_type": "code",
   "execution_count": 20,
   "metadata": {},
   "outputs": [
    {
     "data": {
      "image/png": "[encoded data removed]",
      "text/plain": [
       "<Figure size 864x432 with 1 Axes>"
      ]
     },
     "metadata": {
      "needs_background": "light"
     },
     "output_type": "display_data"
    }
   ],
   "source": [
    "# Calculate the mean of X and y\n",
    "X=revenue_in_millions\n",
    "y=budget_in_millions\n",
    "\n",
    "xmean = np.mean(X)\n",
    "ymean = np.mean(y)\n",
    "\n",
    "# Calculate the terms needed for the numator and denominator of beta\n",
    "movies_sample['xycov'] = (budget_in_millions - xmean) * (budget_in_millions - ymean)\n",
    "movies_sample['xvar'] = (budget_in_millions - xmean)**2\n",
    "\n",
    "# Calculate beta and alpha\n",
    "beta = movies_sample['xycov'].sum() / movies_sample['xvar'].sum()\n",
    "alpha = ymean - (beta * xmean)\n",
    "ypred = alpha + beta * X\n",
    "\n",
    "# Plot regression against actual data\n",
    "plt.figure(figsize=(12, 6))\n",
    "plt.plot(X, ypred)     # regression line\n",
    "plt.plot(X, y, 'ro')   # scatter plot showing actual data\n",
    "plt.title('Actual vs Predicted')\n",
    "plt.xlabel('Revenue (in millions)')\n",
    "plt.ylabel('Budget (in millions)')\n",
    "\n",
    "plt.show()"
   ]
  },
  {
   "cell_type": "markdown",
   "metadata": {},
   "source": [
    "Our analysis indicates that in the future, the more money you spend on a movie, the more successful it is likely to be. Now, let's calculate a predicitive figure. A movie producer decides that he wishes to make \\\\$1 billion dollars from his next production, how much money does he need to spend to achieve this:"
   ]
  },
  {
   "cell_type": "code",
   "execution_count": 21,
   "metadata": {},
   "outputs": [
    {
     "name": "stdout",
     "output_type": "stream",
     "text": [
      "[197.78400111]\n"
     ]
    }
   ],
   "source": [
    "print(np.polyval(movies_fit, [1000])) # 1000 represents $1 billion dollars as a revenue_in_millions value"
   ]
  },
  {
   "cell_type": "markdown",
   "metadata": {},
   "source": [
    "The output indicates that the producer would need to spend just over \\\\$197 million dollars to achieve his goal. How accurate is this figure though? For this, we need to calculate the Coefficient of Determination:"
   ]
  },
  {
   "cell_type": "code",
   "execution_count": 22,
   "metadata": {},
   "outputs": [
    {
     "name": "stdout",
     "output_type": "stream",
     "text": [
      "Coefficient of Determination: -0.15441365094101478\n"
     ]
    }
   ],
   "source": [
    "from sklearn.metrics import r2_score\n",
    "actual_revenue = revenue_in_millions\n",
    "predicted_revenue = ((budget_in_millions*0.175)+22.955)\n",
    "R_square = r2_score( actual_revenue, predicted_revenue) \n",
    "print('Coefficient of Determination:', R_square)"
   ]
  },
  {
   "cell_type": "markdown",
   "metadata": {},
   "source": [
    "The coefficient of determination is only 15.4% - which is extremely low. This indicates that the linear regression model isn't at all accurate. Even with a strong correlation between budget and revenue figures, the presence of a large number of outliers indicate that there are many other factors at play in determining the success of movie."
   ]
  },
  {
   "cell_type": "markdown",
   "metadata": {},
   "source": [
    "## Conclusion\n",
    " \n",
    "This was an intriguing data analysis that looked at movies released between 2000 and 2015.\n",
    "Following this analysis, we can reach the following conclusions:\n",
    "\n",
    "* Drama is the most made and popular genre, followed by comedy, thriller, action and  adventure.\n",
    "\n",
    "* The 'Avatar' film, directed by James Cameron, earns the highest revenue in this dataset, earning over \\\\$2.7 billion.\n",
    "\n",
    "* Correlation analysis indicates that there is a significant relationship between revenue and budget based on the various scatter plots, however regression analysis does not support the same finding. There are numerous additional factors at work in determining a movie's success, even in the face of a strong correlation between budget and revenue variables.\n"
   ]
  },
  {
   "cell_type": "markdown",
   "metadata": {},
   "source": [
    "\n",
    "\n",
    "\n"
   ]
  }
 ],
 "metadata": {
  "kernelspec": {
   "display_name": "Python 3",
   "language": "python",
   "name": "python3"
  },
  "language_info": {
   "codemirror_mode": {
    "name": "ipython",
    "version": 3
   },
   "file_extension": ".py",
   "mimetype": "text/x-python",
   "name": "python",
   "nbconvert_exporter": "python",
   "pygments_lexer": "ipython3",
   "version": "3.8.5"
  }
 },
 "nbformat": 4,
 "nbformat_minor": 4
}
